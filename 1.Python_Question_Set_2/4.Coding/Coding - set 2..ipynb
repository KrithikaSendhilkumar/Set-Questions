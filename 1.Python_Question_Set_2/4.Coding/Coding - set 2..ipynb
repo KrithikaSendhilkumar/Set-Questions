{
 "cells": [
  {
   "cell_type": "code",
   "execution_count": null,
   "id": "aba1475d",
   "metadata": {},
   "outputs": [],
   "source": [
    "1.Write a Python program to find the reverse of a string. Expected Output (for input \"hello\"):\n",
    "olleh\n"
   ]
  },
  {
   "cell_type": "code",
   "execution_count": 9,
   "id": "06ff851e-0435-49b4-bede-5ed9ec0e98c7",
   "metadata": {},
   "outputs": [
    {
     "name": "stdout",
     "output_type": "stream",
     "text": [
      "olleh\n"
     ]
    }
   ],
   "source": [
    "s = \"hello\"\n",
    "print(s[::-1])\n",
    "   \n"
   ]
  },
  {
   "cell_type": "code",
   "execution_count": null,
   "id": "5b1ec143",
   "metadata": {},
   "outputs": [],
   "source": [
    "2.Write a Python program to generate the Fibonacci sequence up to 10 terms.\n",
    "Expected Output:\n",
    "0 1 1 2 3 5 8 13 21 34\n",
    "\n"
   ]
  },
  {
   "cell_type": "code",
   "execution_count": 33,
   "id": "3d25d0db-c915-49b8-a6f7-63cd8df0f0cc",
   "metadata": {},
   "outputs": [
    {
     "name": "stdout",
     "output_type": "stream",
     "text": [
      "0 1 1 2 3 5 8 13 21 34 55 89 "
     ]
    }
   ],
   "source": [
    "s = 0\n",
    "n = 1\n",
    "print(s, end =\" \")\n",
    "print(n, end =\" \")\n",
    "for i in range(1,11):\n",
    "    f=s+n\n",
    "    s = n\n",
    "    n = f\n",
    "    print(f, end =\" \")\n"
   ]
  },
  {
   "cell_type": "code",
   "execution_count": null,
   "id": "c656f04a",
   "metadata": {},
   "outputs": [],
   "source": [
    "3.Write a Python function to check if a given string is a palindrome.\n",
    "Expected Output (for input \"madam\"):\n",
    "madam is a palindrome\n",
    "\n"
   ]
  },
  {
   "cell_type": "code",
   "execution_count": 66,
   "id": "eaaeb76b-6cf6-4033-a5ce-8e4da5e526c5",
   "metadata": {},
   "outputs": [
    {
     "name": "stdin",
     "output_type": "stream",
     "text": [
      "enter the string to be checked for Palindrome madam\n"
     ]
    },
    {
     "name": "stdout",
     "output_type": "stream",
     "text": [
      "madam is a palindrome\n"
     ]
    }
   ],
   "source": [
    "s = input(\"enter the string to be checked for Palindrome\")\n",
    "if s == s[::-1]:\n",
    "    print(s,\"is a palindrome\")\n",
    "else:\n",
    "    print(s,\"is not a palindrome\")\n"
   ]
  },
  {
   "cell_type": "code",
   "execution_count": null,
   "id": "cd7b0a78",
   "metadata": {},
   "outputs": [],
   "source": [
    "\n",
    "\n",
    "4.Write a Python program to count the number of vowels in a given string. \n",
    "Expected Output (for input \"education\"):\n",
    "\n",
    "Number of vowels: 5\n"
   ]
  },
  {
   "cell_type": "code",
   "execution_count": 127,
   "id": "f1057314-9001-4f61-a212-5b79ce721f01",
   "metadata": {},
   "outputs": [
    {
     "name": "stdin",
     "output_type": "stream",
     "text": [
      "Enter the String education\n"
     ]
    },
    {
     "name": "stdout",
     "output_type": "stream",
     "text": [
      "['e', 'd', 'u', 'c', 'a', 't', 'i', 'o', 'n']\n",
      "5\n"
     ]
    }
   ],
   "source": [
    "\n",
    "s = input(\"Enter the String\")\n",
    "a = list(s)\n",
    "print(a)\n",
    "v = ['a','e','i','o','u','A','E','I','O','U']\n",
    "count = 0\n",
    "for i in range(0,len(a)-1):\n",
    "    if v[i] in s:\n",
    "       count = count+1   \n",
    "print(count)\n",
    "\n"
   ]
  },
  {
   "cell_type": "code",
   "execution_count": null,
   "id": "bdbb9b19",
   "metadata": {},
   "outputs": [],
   "source": [
    "5.Write a Python program to remove duplicates from a list.\n",
    "Expected Output (for input [1, 2, 2, 3, 4, 4, 5]):\n",
    "\n",
    " [1, 2, 3, 4, 5]\n",
    "\n",
    "\n"
   ]
  },
  {
   "cell_type": "code",
   "execution_count": 129,
   "id": "0403b1cc-4126-42b7-998c-759c931b9f00",
   "metadata": {},
   "outputs": [
    {
     "name": "stdout",
     "output_type": "stream",
     "text": [
      "[0, 1, 2, 3, 4, 5]\n"
     ]
    }
   ],
   "source": [
    "old = [1, 2, 2, 3, 4, 4, 5]\n",
    "new = []\n",
    "for i in range(0,len(old)-1):\n",
    "    if i not in new:\n",
    "       new.append(i)\n",
    "\n",
    "print(new)\n",
    "\n",
    "\n"
   ]
  }
 ],
 "metadata": {
  "kernelspec": {
   "display_name": "Python 3 (ipykernel)",
   "language": "python",
   "name": "python3"
  },
  "language_info": {
   "codemirror_mode": {
    "name": "ipython",
    "version": 3
   },
   "file_extension": ".py",
   "mimetype": "text/x-python",
   "name": "python",
   "nbconvert_exporter": "python",
   "pygments_lexer": "ipython3",
   "version": "3.12.4"
  }
 },
 "nbformat": 4,
 "nbformat_minor": 5
}
